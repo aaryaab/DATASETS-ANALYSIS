{
 "cells": [
  {
   "cell_type": "markdown",
   "metadata": {},
   "source": [
    "# Project 1 (Data Science Blog Post)"
   ]
  },
  {
   "cell_type": "markdown",
   "metadata": {},
   "source": [
    "## Analyzing Stack Overflow Survey Data"
   ]
  },
  {
   "cell_type": "markdown",
   "metadata": {},
   "source": [
    "In this project I am using Stack Overflow Survey Data 2019. There are three questions we are going to answer. Explanation and visualization will be presented in order to answer each question. Since we want to analyze only those who are developers, we did filter the survey result so it only contains respondent whose `MainBranch` column is `I am a developer by profession`."
   ]
  },
  {
   "cell_type": "markdown",
   "metadata": {},
   "source": [
    "---"
   ]
  },
  {
   "cell_type": "markdown",
   "metadata": {},
   "source": [
    "### Questions"
   ]
  },
  {
   "cell_type": "markdown",
   "metadata": {},
   "source": [
    "1. Which country is having the highest job satisfaction for developers ?\n",
    "2. Is there a difference in job satisfaction between developers whose undergraduate major is IT-related an those who are not ?\n",
    "3. Do developers who contribute to open source projects have higher salary than those who are not ?"
   ]
  },
  {
   "cell_type": "markdown",
   "metadata": {},
   "source": [
    "---"
   ]
  },
  {
   "cell_type": "markdown",
   "metadata": {},
   "source": [
    "### Data Acquisition & Preparation"
   ]
  },
  {
   "cell_type": "code",
   "execution_count": 2,
   "metadata": {},
   "outputs": [],
   "source": [
    "import pandasql\n",
    "import pandas as pd\n",
    "import seaborn as sns\n",
    "import matplotlib.pyplot as plt\n",
    "\n",
    "from matplotlib.colors import ListedColormap\n",
    "\n",
    "import warnings\n",
    "warnings.filterwarnings('ignore')\n",
    "\n",
    "df = pd.read_csv('survey_results_public.csv')"
   ]
  },
  {
   "cell_type": "code",
   "execution_count": 3,
   "metadata": {},
   "outputs": [],
   "source": [
    "\n",
    "developer_df = df[df['MainBranch'] == 'I am a developer by profession']\n",
    "\n",
    "\n",
    "developer_df['JobSat'] = developer_df['JobSat'].fillna(developer_df['JobSat'].mode()[0])\n",
    "\n",
    "\n",
    "salary_per_country = developer_df.groupby('Country')['ConvertedComp'].mean()\n",
    "developer_df['ConvertedComp'] = developer_df.apply(lambda x: salary_per_country[x['Country']] if pd.isnull(x['ConvertedComp']) else x['ConvertedComp'], axis=1)\n",
    "developer_df = developer_df.dropna(subset=['ConvertedComp'])\n",
    "\n",
    "\n",
    "developer_df['JobSat'] = pd.Categorical(developer_df['JobSat'], categories=['Very dissatisfied',\n",
    "                                                                                'Slightly dissatisfied',\n",
    "                                                                                'Neither satisfied nor dissatisfied',\n",
    "                                                                                'Slightly satisfied',\n",
    "                                                                                'Very satisfied'], ordered=True)\n",
    "\n",
    "developer_df['OpenSourcer'] = pd.Categorical(developer_df['OpenSourcer'], categories=['Never',\n",
    "                                                                                'Less than once per year',\n",
    "                                                                                'Less than once a month but more than once per year',\n",
    "                                                                                'Once a month or more often'], ordered=True)"
   ]
  },
  {
   "cell_type": "markdown",
   "metadata": {},
   "source": [
    "In order to answer the questions, these are the things I did in this data preparation step:\n",
    "- I Filtered the data so it only contains the developer responses.\n",
    "- Since `JobSat` column is a categorical data, we are going to fill the N/A values with the mode.\n",
    "- We have the differences in salary range (that really depends on which country the developers live in), so we are going to fill the N/A values in `ConvertedComp` with the average salary of the developer's `Country`. Then we drop the remaining N/A values (19 rows), it happens because there are countries with average `ConvertedComp` = NaN (all of the respondents from that country didn't fill the salary form). \n",
    "- And Set the `JobSat` and `OpenSourcer` column into categorical data type."
   ]
  },
  {
   "cell_type": "markdown",
   "metadata": {},
   "source": [
    "---"
   ]
  },
  {
   "cell_type": "markdown",
   "metadata": {},
   "source": [
    "### Data Exploration"
   ]
  },
  {
   "cell_type": "markdown",
   "metadata": {},
   "source": [
    "#### 1. Country with the highest job satisfaction"
   ]
  },
  {
   "cell_type": "code",
   "execution_count": 4,
   "metadata": {
    "scrolled": true
   },
   "outputs": [],
   "source": [
    "\n",
    "top_30_country = list(developer_df['Country'].value_counts().head(30).index)\n",
    "filtered_developer_data = developer_df[developer_df['Country'].isin(top_30_country)]\n",
    "\n",
    "\n",
    "aggregated_data = filtered_developer_data.groupby(['Country','JobSat'], as_index=False)['Respondent'].count()\n",
    "\n",
    "\n",
    "total_respondents_per_country = filtered_developer_data['Country'].value_counts()\n",
    "\n",
    "aggregated_data['Respondent Percentage'] = aggregated_data \\\n",
    "                                           .apply(lambda x: x['Respondent'] / total_respondents_per_country[x['Country']], axis=1) \\\n",
    "                                           .round(3)\n",
    "\n",
    "\n",
    "aggregated_data = aggregated_data[['Country', 'JobSat', 'Respondent Percentage']]\n",
    "pivoted_data = pd.pivot_table(aggregated_data, values='Respondent Percentage', index='Country', columns='JobSat') \\\n",
    "                 .sort_values('Very satisfied', ascending=False)"
   ]
  },
  {
   "cell_type": "markdown",
   "metadata": {},
   "source": [
    "Because the data is containing the respondent from more than 170 countries, <b>I have narrowed it down to only 30 countries in terms of its total respondents</b>. I did it because I want to gather the data from as much respondents as possible for each country, and each country in the top 30 has the minimum of 400 respondents which we considered enough."
   ]
  },
  {
   "cell_type": "code",
   "execution_count": 11,
   "metadata": {},
   "outputs": [
    {
     "data": {
      "image/png": "[encoded data removed]",
      "text/plain": [
       "<Figure size 936x360 with 1 Axes>"
      ]
     },
     "metadata": {
      "needs_background": "light"
     },
     "output_type": "display_data"
    }
   ],
   "source": [
    "\n",
    "pivoted_data.plot(kind='bar', \n",
    "                  stacked=True, \n",
    "                  colormap=ListedColormap(sns.color_palette(\"ch:2.5,-.2,dark=.2\")),\n",
    "                  figsize=(13,5))\n",
    "plt.legend(loc=\"upper left\", bbox_to_anchor=(1,1.02))\n",
    "plt.ylabel('Satisfaction Percentages')\n",
    "plt.title('Job Satisfaction Percentage per Country')\n",
    "plt.show()"
   ]
  },
  {
   "cell_type": "markdown",
   "metadata": {},
   "source": [
    "The data shows that <b>United States is the best country in terms of job satisfaction of  employees with almost 40% of the developers feel very satisfied</b>, and from the visualization above we know that <b>5 of top 10 countries with the highest job satisfaction are located in Europe</b>."
   ]
  },
  {
   "cell_type": "markdown",
   "metadata": {},
   "source": [
    "#### 2. Undergraduate Major with job satisfaction"
   ]
  },
  {
   "cell_type": "code",
   "execution_count": 12,
   "metadata": {},
   "outputs": [
    {
     "data": {
      "text/plain": [
       "IT Related        0.708178\n",
       "Not IT Related    0.291822\n",
       "Name: Major, dtype: float64"
      ]
     },
     "execution_count": 12,
     "metadata": {},
     "output_type": "execute_result"
    }
   ],
   "source": [
    "\n",
    "def check_major(value):\n",
    "    '''\n",
    "    input: the value of each row in the selected column\n",
    "    output: the mapped value based on the rule we made in this function\n",
    "    '''\n",
    "\n",
    "    if value == 'Computer science, computer engineering, or software engineering' \\\n",
    "    or value == 'Information systems, information technology, or system administration' \\\n",
    "    or value == 'Web development or web design':\n",
    "        return 'IT Related'\n",
    "    return 'Not IT Related'\n",
    "\n",
    "developer_df['Major'] = developer_df['UndergradMajor'].apply(check_major)\n",
    "\n",
    "developer_df['Major'].value_counts(normalize=True)"
   ]
  },
  {
   "cell_type": "markdown",
   "metadata": {},
   "source": [
    "In order to answer this question, I have to cateogrized the `UndergradMajor` column into two types (IT Related and Not IT Related) first. It shows that <b>29% of developers do not have IT-related background (their undergraduate major)</b>."
   ]
  },
  {
   "cell_type": "code",
   "execution_count": 13,
   "metadata": {},
   "outputs": [],
   "source": [
    "\n",
    "aggregated_data = developer_df.groupby(['Major','JobSat'], as_index=False)['Respondent'].count()\n",
    "\n",
    "\n",
    "total_respondents_per_major = developer_df['Major'].value_counts()\n",
    "\n",
    "aggregated_data['Respondent Percentage'] = aggregated_data \\\n",
    "                                           .apply(lambda x: x['Respondent'] / total_respondents_per_major[x['Major']], axis=1) \\\n",
    "                                           .round(4)\n",
    "\n",
    "\n",
    "aggregated_data = aggregated_data[['Major', 'JobSat', 'Respondent Percentage']]\n",
    "pivoted_data = pd.pivot_table(aggregated_data, values='Respondent Percentage', index='Major', columns='JobSat')"
   ]
  },
  {
   "cell_type": "markdown",
   "metadata": {},
   "source": [
    "Then I have calculated the percentages of each value in `JobSat` to measure the job satisfaction for each major type."
   ]
  },
  {
   "cell_type": "code",
   "execution_count": 14,
   "metadata": {},
   "outputs": [
    {
     "data": {
      "image/png": "[encoded data removed]",
      "text/plain": [
       "<Figure size 936x360 with 1 Axes>"
      ]
     },
     "metadata": {
      "needs_background": "light"
     },
     "output_type": "display_data"
    }
   ],
   "source": [
    "\n",
    "pivoted_data.plot(kind='barh', \n",
    "                  stacked=True, \n",
    "                  colormap=ListedColormap(sns.color_palette(\"ch:2.5,-.2,dark=.2\")),\n",
    "                  figsize=(13,5))\n",
    "plt.legend(loc=\"upper left\", bbox_to_anchor=(1,1.02))\n",
    "plt.xlabel('Satisfaction Percentages')\n",
    "plt.title('Job Satisfaction Percentage by Undergraduate Major')\n",
    "plt.show()"
   ]
  },
  {
   "cell_type": "code",
   "execution_count": 15,
   "metadata": {},
   "outputs": [
    {
     "data": {
      "text/html": [
       "<div>\n",
       "<style scoped>\n",
       "    .dataframe tbody tr th:only-of-type {\n",
       "        vertical-align: middle;\n",
       "    }\n",
       "\n",
       "    .dataframe tbody tr th {\n",
       "        vertical-align: top;\n",
       "    }\n",
       "\n",
       "    .dataframe thead th {\n",
       "        text-align: right;\n",
       "    }\n",
       "</style>\n",
       "<table border=\"1\" class=\"dataframe\">\n",
       "  <thead>\n",
       "    <tr style=\"text-align: right;\">\n",
       "      <th>JobSat</th>\n",
       "      <th>Very dissatisfied</th>\n",
       "      <th>Slightly dissatisfied</th>\n",
       "      <th>Neither satisfied nor dissatisfied</th>\n",
       "      <th>Slightly satisfied</th>\n",
       "      <th>Very satisfied</th>\n",
       "    </tr>\n",
       "    <tr>\n",
       "      <th>Major</th>\n",
       "      <th></th>\n",
       "      <th></th>\n",
       "      <th></th>\n",
       "      <th></th>\n",
       "      <th></th>\n",
       "    </tr>\n",
       "  </thead>\n",
       "  <tbody>\n",
       "    <tr>\n",
       "      <th>IT Related</th>\n",
       "      <td>0.0661</td>\n",
       "      <td>0.1493</td>\n",
       "      <td>0.1239</td>\n",
       "      <td>0.3641</td>\n",
       "      <td>0.2966</td>\n",
       "    </tr>\n",
       "    <tr>\n",
       "      <th>Not IT Related</th>\n",
       "      <td>0.0664</td>\n",
       "      <td>0.1363</td>\n",
       "      <td>0.1070</td>\n",
       "      <td>0.3527</td>\n",
       "      <td>0.3376</td>\n",
       "    </tr>\n",
       "  </tbody>\n",
       "</table>\n",
       "</div>"
      ],
      "text/plain": [
       "JobSat          Very dissatisfied  Slightly dissatisfied  \\\n",
       "Major                                                      \n",
       "IT Related                 0.0661                 0.1493   \n",
       "Not IT Related             0.0664                 0.1363   \n",
       "\n",
       "JobSat          Neither satisfied nor dissatisfied  Slightly satisfied  \\\n",
       "Major                                                                    \n",
       "IT Related                                  0.1239              0.3641   \n",
       "Not IT Related                              0.1070              0.3527   \n",
       "\n",
       "JobSat          Very satisfied  \n",
       "Major                           \n",
       "IT Related              0.2966  \n",
       "Not IT Related          0.3376  "
      ]
     },
     "execution_count": 15,
     "metadata": {},
     "output_type": "execute_result"
    }
   ],
   "source": [
    "pivoted_data"
   ]
  },
  {
   "cell_type": "markdown",
   "metadata": {},
   "source": [
    "From the visualization and table above, I have found that <b>developers whose undergraduate major is not IT-related have slightly better job satisfaction</b> compared those who have IT related background with 34% and 30% respondents feel very satisfied respectively."
   ]
  },
  {
   "cell_type": "markdown",
   "metadata": {},
   "source": [
    "#### 3. Compensation and contributing to open source"
   ]
  },
  {
   "cell_type": "code",
   "execution_count": 16,
   "metadata": {},
   "outputs": [
    {
     "data": {
      "text/html": [
       "<div>\n",
       "<style scoped>\n",
       "    .dataframe tbody tr th:only-of-type {\n",
       "        vertical-align: middle;\n",
       "    }\n",
       "\n",
       "    .dataframe tbody tr th {\n",
       "        vertical-align: top;\n",
       "    }\n",
       "\n",
       "    .dataframe thead th {\n",
       "        text-align: right;\n",
       "    }\n",
       "</style>\n",
       "<table border=\"1\" class=\"dataframe\">\n",
       "  <thead>\n",
       "    <tr style=\"text-align: right;\">\n",
       "      <th></th>\n",
       "      <th>OpenSourcer</th>\n",
       "      <th>ConvertedComp</th>\n",
       "    </tr>\n",
       "  </thead>\n",
       "  <tbody>\n",
       "    <tr>\n",
       "      <th>0</th>\n",
       "      <td>Never</td>\n",
       "      <td>117254.369170</td>\n",
       "    </tr>\n",
       "    <tr>\n",
       "      <th>1</th>\n",
       "      <td>Less than once per year</td>\n",
       "      <td>120802.882927</td>\n",
       "    </tr>\n",
       "    <tr>\n",
       "      <th>2</th>\n",
       "      <td>Less than once a month but more than once per ...</td>\n",
       "      <td>123194.248789</td>\n",
       "    </tr>\n",
       "    <tr>\n",
       "      <th>3</th>\n",
       "      <td>Once a month or more often</td>\n",
       "      <td>123881.913894</td>\n",
       "    </tr>\n",
       "  </tbody>\n",
       "</table>\n",
       "</div>"
      ],
      "text/plain": [
       "                                         OpenSourcer  ConvertedComp\n",
       "0                                              Never  117254.369170\n",
       "1                            Less than once per year  120802.882927\n",
       "2  Less than once a month but more than once per ...  123194.248789\n",
       "3                         Once a month or more often  123881.913894"
      ]
     },
     "execution_count": 16,
     "metadata": {},
     "output_type": "execute_result"
    }
   ],
   "source": [
    "comp_per_category = developer_df.groupby('OpenSourcer', as_index=False)['ConvertedComp'].mean()\n",
    "comp_per_category"
   ]
  },
  {
   "cell_type": "code",
   "execution_count": 17,
   "metadata": {},
   "outputs": [
    {
     "data": {
      "image/png": "[encoded data removed]",
      "text/plain": [
       "<Figure size 1152x576 with 1 Axes>"
      ]
     },
     "metadata": {
      "needs_background": "light"
     },
     "output_type": "display_data"
    }
   ],
   "source": [
    "plt.figure(figsize=(16, 8))\n",
    "sns.barplot(data=comp_per_category, x='OpenSourcer', y='ConvertedComp', palette=sns.color_palette(\"ch:2.5,-.2,dark=.2\"))\n",
    "plt.ylim(90000,140000)\n",
    "plt.title('Total Salary and Frequency of Contributing to Open Source')\n",
    "plt.ylabel('Total Salary (USD / year)')\n",
    "plt.xlabel('Contributing to Open Source Frequency')\n",
    "plt.show()"
   ]
  },
  {
   "cell_type": "markdown",
   "metadata": {},
   "source": [
    "We can see from the data that <b>the more frequent the developers contribute to open source, the higher their salary.</b> People who contribute to open source even once a month or more have 7% higher salary than those who never contribute."
   ]
  },
  {
   "cell_type": "markdown",
   "metadata": {},
   "source": [
    "The correlation between those two variables does not mean if we want the higher salary, we need to start contributing to open source. We need to remember one thing, <b>correlation does not imply causation</b>. One thing that seems reasonable about those correlation are, one needs to have some sort of skills if you want to contribute to open source (I did not mean that a newbie in programming could not contribute but we can agree that the more experienced developers must be better at doing that), thus make one a more skilled and better developers, and the more skilled someone, the higher their salary."
   ]
  },
  {
   "cell_type": "markdown",
   "metadata": {},
   "source": [
    "---"
   ]
  },
  {
   "cell_type": "markdown",
   "metadata": {},
   "source": [
    "### Conlusion"
   ]
  },
  {
   "cell_type": "markdown",
   "metadata": {},
   "source": [
    "In this notebook I did the analysis about developers from Stack Overflow Survey Data 2019, and these are the summary of what we have done.<br>\n",
    "\n",
    "1. I measured the job satisfaction level for each country and found that <b>United States has the highest job satisfaction level in the world, and 5 of top 10 countries with the highest job satisfaction level are located in Europe</b>.\n",
    "2. I then looked at their undergraduate major and found that <b>developers whose undergraduate major is not IT-related have slightly better job satisfaction</b>.\n",
    "3. Finally, I found that <b>developers who contribute more to the open source have the higher salary</b>."
   ]
  },
  {
   "cell_type": "code",
   "execution_count": null,
   "metadata": {},
   "outputs": [],
   "source": []
  }
 ],
 "metadata": {
  "kernelspec": {
   "display_name": "Python 3",
   "language": "python",
   "name": "python3"
  },
  "language_info": {
   "codemirror_mode": {
    "name": "ipython",
    "version": 3
   },
   "file_extension": ".py",
   "mimetype": "text/x-python",
   "name": "python",
   "nbconvert_exporter": "python",
   "pygments_lexer": "ipython3",
   "version": "3.7.3"
  }
 },
 "nbformat": 4,
 "nbformat_minor": 2
}
